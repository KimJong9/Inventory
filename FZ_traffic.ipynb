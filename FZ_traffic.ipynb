{
 "cells": [
  {
   "cell_type": "markdown",
   "metadata": {},
   "source": [
    "# 십자 4차로에서 자동차 교통 신호를 조절하시오."
   ]
  },
  {
   "cell_type": "code",
   "execution_count": 51,
   "metadata": {},
   "outputs": [],
   "source": [
    "import numpy as np\n",
    "import math as mt\n",
    "import random\n",
    "import sys"
   ]
  },
  {
   "cell_type": "markdown",
   "metadata": {},
   "source": [
    "초기 설정"
   ]
  },
  {
   "cell_type": "code",
   "execution_count": 212,
   "metadata": {},
   "outputs": [],
   "source": [
    "car = np.ndarray(4,dtype = int) #각 방향에 대한 차 수 [0]은 동 [1]은 서 [2]는 남 [3]은 북\n",
    "timeset = np.ndarray(2,dtype=int) #신호등 시간 설정\n",
    "speed = 1                         #1초동안 통과하는 차의 대수 #변경 시 fuzzy control도 변경할 것\n",
    "maxCar=np.ndarray(2,dtype=int)    #maxCar[0] = 가로 차선 차의 최대수, [1] = 세로 차선 차의 최대수\n",
    "car_fre = 3                      #car_frequency = 구간별 자동차 빈도 \n",
    "var = np.array(['arrival','queue','extention'],dtype = str)"
   ]
  },
  {
   "cell_type": "markdown",
   "metadata": {},
   "source": [
    "함수 설정"
   ]
  },
  {
   "cell_type": "code",
   "execution_count": 213,
   "metadata": {},
   "outputs": [],
   "source": [
    "def settingCar(ec,wc,sc,nc):\n",
    "        car[0] = ec\n",
    "        car[1] = wc\n",
    "        car[2] = sc\n",
    "        car[3] = nc"
   ]
  },
  {
   "cell_type": "code",
   "execution_count": 214,
   "metadata": {},
   "outputs": [],
   "source": [
    "def timeSet(basic_time,additional_time):\n",
    "    timeset[0]=basic_time\n",
    "    timeset[1]=additional_time"
   ]
  },
  {
   "cell_type": "code",
   "execution_count": 215,
   "metadata": {},
   "outputs": [],
   "source": [
    "def selectMax(e,w,s,n):\n",
    "    if (e>w):\n",
    "        maxCar[0]=e\n",
    "    else:\n",
    "        maxCar[0]=w\n",
    "    if(s>n):\n",
    "        maxCar[1]=s\n",
    "    else:\n",
    "        maxCar[1]=n"
   ]
  },
  {
   "cell_type": "code",
   "execution_count": 216,
   "metadata": {},
   "outputs": [],
   "source": [
    "def membershipFx(a,string1):\n",
    "    if(string1 == \"arrival\"):\n",
    "        v=0\n",
    "    else:\n",
    "        v=1\n",
    "    if(a<1):\n",
    "        var[v] = \"null\"\n",
    "    elif(a>=1 and a<1+(car_fre/2)):\n",
    "        var[v] = \"zero\"\n",
    "    elif(a>=1+(car_fre/2) and a<1+(3*car_fre/2)):\n",
    "        var[v] = \"light\"\n",
    "    elif(a>=1+(3*car_fre/2) and a<1+(5*car_fre/2)):\n",
    "        var[v] = \"normal\"\n",
    "    else:\n",
    "        var[v] = \"heavy\""
   ]
  },
  {
   "cell_type": "code",
   "execution_count": 217,
   "metadata": {},
   "outputs": [],
   "source": [
    "def fuzzyControl(arr,que):\n",
    "        if(arr == que or arr==\"null\" or arr == \"light\"or que == \"heavy\"):\n",
    "            var[2] = \"zero\"\n",
    "        elif(arr == \"light\" and (que == \"null\" or \"zero\")):\n",
    "            var[2] = \"light\"\n",
    "        elif(arr ==\"normal\" and (que == \"null\" or \"zero\")):\n",
    "            var[2] = \"medium\"\n",
    "        elif(arr == \"normal\" and que == \"light\"):\n",
    "            var[2] = \"light\"\n",
    "        elif(arr==\"heavy\" and (que== \"null\" or \"zero\")):\n",
    "            var[2] = \"heavy\"\n",
    "        elif(arr==\"heavy\" and que== \"light\"):\n",
    "            var[2] = \"medium\"\n",
    "        else:\n",
    "            var[2] = \"light\""
   ]
  },
  {
   "cell_type": "code",
   "execution_count": 218,
   "metadata": {},
   "outputs": [],
   "source": [
    "def traffic_t(a):\n",
    "    if(a==\"zero\"):\n",
    "        add=0\n",
    "    elif(a==\"light\"):\n",
    "        add=1\n",
    "    elif(a==\"medium\"):\n",
    "        add=2\n",
    "    else:\n",
    "        add=3\n",
    "    return timeset[0]+(timeset[1]*add)"
   ]
  },
  {
   "cell_type": "code",
   "execution_count": 219,
   "metadata": {},
   "outputs": [],
   "source": [
    "def traffic(t,c):\n",
    "    if(c%2==0): #가로선 신호 활성화 시\n",
    "        if(car[0]+car[1]==0):\n",
    "            return\n",
    "        car[0]=car[0]-speed*t\n",
    "        if (car[0]<0):\n",
    "            car[0]=0\n",
    "        car[1]=car[1]-speed*t\n",
    "        if (car[1]<0):\n",
    "            car[1]=0\n",
    "        print(speed*t,\"초 동안 가로선 신호 활성화, 가로선에 남은 차 수는\",car[0]+car[1],\"대\")\n",
    "    else: #세로선 신호 활성화 시\n",
    "        if(car[2]+car[3]==0):\n",
    "            return\n",
    "        car[2]=car[2]-speed*t\n",
    "        if (car[2]<0):\n",
    "            car[2]=0\n",
    "        car[3]=car[3]-speed*t\n",
    "        if (car[3]<0):\n",
    "            car[3]=0\n",
    "        print(speed*t,\"초 동안 세로선 신호 활성화, 세로선에 남은 차 수는\",car[2]+car[3],\"대\")"
   ]
  },
  {
   "cell_type": "code",
   "execution_count": 220,
   "metadata": {},
   "outputs": [],
   "source": [
    "def main(a,b,c,d,e,f): #동,서,남,북,시간,추가시간\n",
    "    settingCar(a,b,c,d)\n",
    "    timeSet(e,f)\n",
    "    count = 0\n",
    "    while(max(car)!=0):\n",
    "        count=count%2\n",
    "        tcount = (count + 1)%2\n",
    "        selectMax(car[0],car[1],car[2],car[3])\n",
    "        membershipFx(maxCar[0],\"arrival\")\n",
    "        membershipFx(maxCar[1],\"queue\")\n",
    "        fuzzyControl(var[count],var[tcount])\n",
    "        time = traffic_t(var[2])\n",
    "        traffic(time,count)\n",
    "        count=count+1"
   ]
  },
  {
   "cell_type": "code",
   "execution_count": 230,
   "metadata": {},
   "outputs": [
    {
     "name": "stdout",
     "output_type": "stream",
     "text": [
      "2 초 동안 가로선 신호 활성화, 가로선에 남은 차 수는 12 대\n",
      "1 초 동안 세로선 신호 활성화, 세로선에 남은 차 수는 29 대\n",
      "1 초 동안 가로선 신호 활성화, 가로선에 남은 차 수는 10 대\n",
      "1 초 동안 세로선 신호 활성화, 세로선에 남은 차 수는 27 대\n",
      "1 초 동안 가로선 신호 활성화, 가로선에 남은 차 수는 8 대\n",
      "1 초 동안 세로선 신호 활성화, 세로선에 남은 차 수는 25 대\n",
      "1 초 동안 가로선 신호 활성화, 가로선에 남은 차 수는 6 대\n",
      "1 초 동안 세로선 신호 활성화, 세로선에 남은 차 수는 23 대\n",
      "1 초 동안 가로선 신호 활성화, 가로선에 남은 차 수는 4 대\n",
      "1 초 동안 세로선 신호 활성화, 세로선에 남은 차 수는 21 대\n",
      "1 초 동안 가로선 신호 활성화, 가로선에 남은 차 수는 2 대\n",
      "1 초 동안 세로선 신호 활성화, 세로선에 남은 차 수는 19 대\n",
      "1 초 동안 가로선 신호 활성화, 가로선에 남은 차 수는 1 대\n",
      "1 초 동안 세로선 신호 활성화, 세로선에 남은 차 수는 17 대\n",
      "1 초 동안 가로선 신호 활성화, 가로선에 남은 차 수는 0 대\n",
      "2 초 동안 세로선 신호 활성화, 세로선에 남은 차 수는 13 대\n",
      "2 초 동안 세로선 신호 활성화, 세로선에 남은 차 수는 9 대\n",
      "2 초 동안 세로선 신호 활성화, 세로선에 남은 차 수는 5 대\n",
      "2 초 동안 세로선 신호 활성화, 세로선에 남은 차 수는 1 대\n",
      "2 초 동안 세로선 신호 활성화, 세로선에 남은 차 수는 0 대\n"
     ]
    }
   ],
   "source": [
    "#     동  서  남  북 시간 추가시간  frequncy = 3\n",
    "main(9,7,15,16, 1, 1)"
   ]
  },
  {
   "cell_type": "code",
   "execution_count": 162,
   "metadata": {},
   "outputs": [
    {
     "data": {
      "text/plain": [
       "array(['zero', 'null', 'light'], dtype='<U9')"
      ]
     },
     "execution_count": 162,
     "metadata": {},
     "output_type": "execute_result"
    }
   ],
   "source": [
    "var"
   ]
  },
  {
   "cell_type": "code",
   "execution_count": null,
   "metadata": {},
   "outputs": [],
   "source": []
  }
 ],
 "metadata": {
  "kernelspec": {
   "display_name": "Python 3",
   "language": "python",
   "name": "python3"
  },
  "language_info": {
   "codemirror_mode": {
    "name": "ipython",
    "version": 3
   },
   "file_extension": ".py",
   "mimetype": "text/x-python",
   "name": "python",
   "nbconvert_exporter": "python",
   "pygments_lexer": "ipython3",
   "version": "3.8.5"
  }
 },
 "nbformat": 4,
 "nbformat_minor": 4
}
